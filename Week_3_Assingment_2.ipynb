{
 "cells": [
  {
   "cell_type": "markdown",
   "id": "8936e07e-5f65-4712-a36a-00181bd6d399",
   "metadata": {},
   "source": [
    "pw skills acedmy assigngment solution by Saddam Ansari"
   ]
  },
  {
   "cell_type": "markdown",
   "id": "70db9569-2f0a-43e7-be1b-dce57996b7ea",
   "metadata": {},
   "source": [
    "Q1. Create a python program to sort the given list of tuples based on integer value using a\n",
    "lambda function.\n",
    "[('Sachin Tendulkar', 34357), ('Ricky Ponting', 27483), ('Jack Kallis', 25534), ('Virat Kohli', 24936)]"
   ]
  },
  {
   "cell_type": "code",
   "execution_count": 1,
   "id": "5f802ad4-6e10-45fe-9d66-044901537912",
   "metadata": {},
   "outputs": [
    {
     "name": "stdout",
     "output_type": "stream",
     "text": [
      "('Virat Kohli', 24936)\n",
      "('Jack Kallis', 25534)\n",
      "('Ricky Ponting', 27483)\n",
      "('Sachin Tendulkar', 34357)\n"
     ]
    }
   ],
   "source": [
    "l = [('Sachin Tendulkar', 34357), ('Ricky Ponting', 27483), ('Jack Kallis', 25534), ('Virat Kohli', 24936)]\n",
    "\n",
    "sl = sorted(l, key=lambda x: x[1])\n",
    "\n",
    "for item in sl:\n",
    "    print(item)\n"
   ]
  },
  {
   "cell_type": "markdown",
   "id": "de89ff7f-7cf7-47e1-9db6-91e8cb6c9776",
   "metadata": {},
   "source": [
    "Q2. Write a Python Program to find the squares of all the numbers in the given list of integers using\n",
    "lambda and map functions.\n",
    "[1, 2, 3, 4, 5, 6, 7, 8, 9, 10]"
   ]
  },
  {
   "cell_type": "code",
   "execution_count": 6,
   "id": "290ab69b-06ce-4c31-9833-2b797fc2376b",
   "metadata": {},
   "outputs": [],
   "source": [
    "l1=[1,2,3,4,5,6,7,8,9,10]\n",
    "def sq(x):\n",
    "    return x**2"
   ]
  },
  {
   "cell_type": "code",
   "execution_count": 7,
   "id": "a77c8ee8-152c-4ecb-bfbf-a13350a4243d",
   "metadata": {},
   "outputs": [
    {
     "data": {
      "text/plain": [
       "[1, 4, 9, 16, 25, 36, 49, 64, 81, 100]"
      ]
     },
     "execution_count": 7,
     "metadata": {},
     "output_type": "execute_result"
    }
   ],
   "source": [
    "list(map(sq,l1))"
   ]
  },
  {
   "cell_type": "markdown",
   "id": "e5869743-04d8-48ac-940b-39355e5fb40c",
   "metadata": {},
   "source": [
    "Q3. Write a python program to convert the given list of integers into a tuple of strings. Use map and\n",
    "lambda functions\n",
    "Given String: [1, 2, 3, 4, 5, 6, 7, 8, 9, 10]\n",
    "Expected output: ('1', '2', '3', '4', '5', '6', '7', '8', '9', '10')"
   ]
  },
  {
   "cell_type": "code",
   "execution_count": 9,
   "id": "47b646dc-2c97-4cda-99e4-87792ed4edab",
   "metadata": {},
   "outputs": [],
   "source": [
    "l2=[1,2,3,4,5,6,7,8,9,10]"
   ]
  },
  {
   "cell_type": "code",
   "execution_count": 12,
   "id": "6f17c4f7-5a8d-43d9-822f-a6121699e00c",
   "metadata": {},
   "outputs": [],
   "source": [
    "str_l2= tuple(map(lambda x: str(x), l2))"
   ]
  },
  {
   "cell_type": "code",
   "execution_count": 13,
   "id": "9dee8958-45e7-4ce9-a9c6-ce371075006e",
   "metadata": {},
   "outputs": [
    {
     "data": {
      "text/plain": [
       "('1', '2', '3', '4', '5', '6', '7', '8', '9', '10')"
      ]
     },
     "execution_count": 13,
     "metadata": {},
     "output_type": "execute_result"
    }
   ],
   "source": [
    "str_l2"
   ]
  },
  {
   "cell_type": "markdown",
   "id": "d9952713-b9d4-46b4-8be8-bc131e247f72",
   "metadata": {},
   "source": [
    "Q4. Write a python program using reduce function to compute the product of a list containing numbers\n",
    "from 1 to 25."
   ]
  },
  {
   "cell_type": "code",
   "execution_count": 14,
   "id": "824b15e0-cb75-451f-b831-cab6d3373b4e",
   "metadata": {},
   "outputs": [
    {
     "name": "stdout",
     "output_type": "stream",
     "text": [
      "15511210043330985984000000\n"
     ]
    }
   ],
   "source": [
    "from functools import reduce\n",
    "\n",
    "num1 = list(range(1, 26))\n",
    "\n",
    "aa = reduce(lambda x, y: x * y, num1)\n",
    "\n",
    "print(aa)\n"
   ]
  },
  {
   "cell_type": "markdown",
   "id": "c5930086-14f6-4add-ac10-0d4aff870c14",
   "metadata": {},
   "source": [
    "Q5. Write a python program to filter the numbers in a given list that are divisible by 2 and 3 using the\n",
    "filter function.\n",
    "[2, 3, 6, 9, 27, 60, 90, 120, 55, 46]"
   ]
  },
  {
   "cell_type": "code",
   "execution_count": 15,
   "id": "06602ba3-e0af-4844-9604-3894fc0bb60a",
   "metadata": {},
   "outputs": [
    {
     "name": "stdout",
     "output_type": "stream",
     "text": [
      "[6, 60, 90, 120]\n"
     ]
    }
   ],
   "source": [
    "num = [2, 3, 6, 9, 27, 60, 90, 120, 55, 46]\n",
    "\n",
    "f_num = list(filter(lambda x: x % 2 == 0 and x % 3 == 0, num))\n",
    "\n",
    "print(f_num)\n"
   ]
  },
  {
   "cell_type": "markdown",
   "id": "ffdeaa78-b4db-4864-a9c0-9c0112cf4dc6",
   "metadata": {},
   "source": [
    "Q6. Write a python program to find palindromes in the given list of strings using lambda and filter\n",
    "function.\n",
    "['python', 'php', 'aba', 'radar', 'level']"
   ]
  },
  {
   "cell_type": "code",
   "execution_count": null,
   "id": "e6b19e99-9fe3-43e8-89c7-f984b845b423",
   "metadata": {},
   "outputs": [],
   "source": []
  }
 ],
 "metadata": {
  "kernelspec": {
   "display_name": "Python 3 (ipykernel)",
   "language": "python",
   "name": "python3"
  },
  "language_info": {
   "codemirror_mode": {
    "name": "ipython",
    "version": 3
   },
   "file_extension": ".py",
   "mimetype": "text/x-python",
   "name": "python",
   "nbconvert_exporter": "python",
   "pygments_lexer": "ipython3",
   "version": "3.10.8"
  }
 },
 "nbformat": 4,
 "nbformat_minor": 5
}
